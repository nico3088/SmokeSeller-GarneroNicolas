{
  "nbformat": 4,
  "nbformat_minor": 0,
  "metadata": {
    "colab": {
      "provenance": [],
      "include_colab_link": true
    },
    "kernelspec": {
      "name": "python3",
      "display_name": "Python 3"
    },
    "language_info": {
      "name": "python"
    }
  },
  "cells": [
    {
      "cell_type": "markdown",
      "metadata": {
        "id": "view-in-github",
        "colab_type": "text"
      },
      "source": [
        "<a href=\"https://colab.research.google.com/github/nico3088/SmokeSeller-GarneroNicolas/blob/main/Clase_3_Operadores_y_expresiones.ipynb\" target=\"_parent\"><img src=\"https://colab.research.google.com/assets/colab-badge.svg\" alt=\"Open In Colab\"/></a>"
      ]
    },
    {
      "cell_type": "markdown",
      "source": [
        "# Operaciones \n",
        "\n",
        "Operando [operador] Operando\n",
        "\n",
        "## Operadores y Expresiones\n",
        "\n",
        "2 + 2 \n",
        "\n",
        "2 - 2\n",
        "\n",
        "2 * 2\n",
        "\n",
        "2 / 2\n",
        "\n",
        "2 // 2\n",
        "\n",
        "2 % 2\n",
        "\n",
        "2 ** 2\n",
        "\n",
        "## EL TIPO LÓGICO\n",
        "### Booleano/Binario\n",
        "True => Verdadero\n",
        "\n",
        "False => Falso\n",
        "\n",
        "## OPERADORES RELACIONALES\n",
        "### Igualdad/Desigualdad/Menor-Mayor que\n"
      ],
      "metadata": {
        "id": "aWMIOq62rIVB"
      }
    },
    {
      "cell_type": "code",
      "source": [
        "# 2 + 2 = 4\n",
        "suma = 2 + 2\n",
        "\n",
        "# print(2 < 2)\n",
        "# print(2 > 2)\n",
        "# print(2 > 4)\n",
        "# print(2 < 4)\n",
        "# print(2 <= 2)\n",
        "# print(2 >= 2)\n",
        "# print(2 <= 5)\n",
        "# print(2 >= 1)\n",
        "# print(1 == 1)\n",
        "# print(1 != 1)\n",
        "# print(suma == 4)\n",
        "# print(suma == 15)\n",
        "# print(suma != 4)\n",
        "# print(suma != 15)\n",
        "\n",
        "otro_numero = 10\n",
        "\n",
        "# print(suma < otro_numero)\n",
        "# print(otro_numero > 50)\n",
        "# print(suma <= 5)\n",
        "# print(suma <= 4)\n",
        "# print(suma < 4)\n",
        "# print(otro_numero >= 10)\n",
        "# print(otro_numero > 10)\n",
        "# print(otro_numero >= 5)\n"
      ],
      "metadata": {
        "id": "yl1UQz-0OkKf"
      },
      "execution_count": null,
      "outputs": []
    },
    {
      "cell_type": "markdown",
      "source": [
        "## ¿Operadores en Strings? \n",
        "\n",
        "https://elcodigoascii.com.ar/"
      ],
      "metadata": {
        "id": "MWLBEw_pr2Eb"
      }
    },
    {
      "cell_type": "code",
      "source": [
        "# print('a' == 'a')\n",
        "# print('a' == 'A')\n",
        "# print('a' != 'A')\n",
        "# print(ord('a'))\n",
        "# print(ord('A'))\n",
        "# print('a' < 'A')\n",
        "# print('a' < 'Z')\n",
        "# print('ahorrar' < 'aHorrar')\n",
        "# print('ah' < 'aHorrar')\n",
        "# print('ah' > 'ahorrar')\n",
        "# print('ah' < 'ahorraR')\n",
        "# print('a' >= 'ahorrar')\n",
        "# 'a' == 'b'\n",
        "# 'a' < 'b'\n",
        "string1 = 'ricardo como ta va? soy pancho'\n",
        "palabra2 = 'hola'\n",
        "# print(string1 == 'hola')\n",
        "# print(string1 == palabra2)\n",
        "# print(string1[0] == 'r')\n",
        "# print(string1[:2] == 'r')\n",
        "# print(string1[:2] == 'ri')"
      ],
      "metadata": {
        "id": "R3GzR4VdOrsF"
      },
      "execution_count": null,
      "outputs": []
    },
    {
      "cell_type": "markdown",
      "source": [
        "## Operadores usando tipos logicos\n"
      ],
      "metadata": {
        "id": "D5lOU4n1r84M"
      }
    },
    {
      "cell_type": "code",
      "source": [
        "# print(True)\n",
        "# print(False)\n",
        "# print(True == False)\n",
        "# print(True == True)\n",
        "# print(True == 1)\n",
        "# print(False == 0)\n",
        "# print(False * 55)\n",
        "# print(True * 55)\n",
        "# print(True + 55)\n",
        "# print(True + 0.5)\n",
        "# print(False == 0.5)\n",
        "\n",
        "\n",
        "# print(int(True))\n",
        "# print(bool(1))\n",
        "\n",
        "# True < False\n",
        "# 1 < 0\n",
        "\n",
        "\n",
        "# print(True == 55)\n",
        "# print('55' == 55)\n",
        "# print('a' == 97)\n",
        "# print(bool(-4))\n",
        "# print(bool(0))\n",
        "# print(bool(''))\n",
        "# print(bool('123asd'))\n",
        "# print(bool([]))\n",
        "# print(bool([2, 3, 54, 'pepe', 'ricardo']))"
      ],
      "metadata": {
        "id": "bZ8QT6rfOuUi"
      },
      "execution_count": null,
      "outputs": []
    },
    {
      "cell_type": "markdown",
      "source": [
        "## Ejercicio 1 (10min)"
      ],
      "metadata": {
        "id": "SK1ifJu0sAiR"
      }
    },
    {
      "cell_type": "code",
      "source": [
        "expresiones = [\n",
        "    False == True,\n",
        "    10 >= 2*4,\n",
        "    33/3 == 11,\n",
        "    True > False,\n",
        "    True*5 == 2.5*2\n",
        "]\n",
        "print(expresiones)"
      ],
      "metadata": {
        "id": "oZRwJWz7Oxi_"
      },
      "execution_count": null,
      "outputs": []
    },
    {
      "cell_type": "markdown",
      "source": [
        "## OPERADORES LÓGICOS\n",
        "### not\n",
        "\n"
      ],
      "metadata": {
        "id": "0G4YX5prsFbV"
      }
    },
    {
      "cell_type": "code",
      "source": [
        "# print(True)\n",
        "# print(False)\n",
        "# print(not True)\n",
        "# print(not False)\n",
        "print(not 4)\n",
        "print(not -4)\n",
        "print(not 0.5)\n",
        "print(not 0)\n",
        "print(not '123asd')\n",
        "bool('123asd')"
      ],
      "metadata": {
        "id": "bsEanjJ3OzZ7"
      },
      "execution_count": null,
      "outputs": []
    },
    {
      "cell_type": "markdown",
      "source": [
        "### and\n"
      ],
      "metadata": {
        "id": "5o7dfe70sIqf"
      }
    },
    {
      "cell_type": "code",
      "source": [
        "True and True"
      ],
      "metadata": {
        "id": "IoUC8voTbfPD"
      },
      "execution_count": null,
      "outputs": []
    },
    {
      "cell_type": "code",
      "source": [
        "print(55 == 60 and 1.5 == 1.4) # False\n",
        "print(55 == 60 and 1.5 == 1.5) # False\n",
        "print(60 == 60 and 1.5 == 1.4) # False\n",
        "print(60 == 60 and 1.5 == 1.5) # True"
      ],
      "metadata": {
        "id": "uorBf15YO1Fa"
      },
      "execution_count": null,
      "outputs": []
    },
    {
      "cell_type": "code",
      "source": [
        "# 4/0\n",
        "# True and 4/0\n",
        "# False and 4/0\n",
        "# 4/0 and False"
      ],
      "metadata": {
        "id": "yKOtwI9CAqZH"
      },
      "execution_count": null,
      "outputs": []
    },
    {
      "cell_type": "markdown",
      "source": [
        "### or\n"
      ],
      "metadata": {
        "id": "uWYkBSbjsMIg"
      }
    },
    {
      "cell_type": "code",
      "source": [
        "print(55 == 60 or 1.5 == 1.5) # True\n",
        "print(60 == 60 or 1.5 == 1.5) # True\n",
        "print(60 == 60 or 1.5 == 1.4) # True\n",
        "print(55 == 60 or 1.5 == 1.4) # False"
      ],
      "metadata": {
        "id": "qnMWcR5pO18z"
      },
      "execution_count": null,
      "outputs": []
    },
    {
      "cell_type": "code",
      "source": [
        "# False or 4/0\n",
        "# True or 4/0\n",
        "# 4/0 or True"
      ],
      "metadata": {
        "id": "EtB6zxp7AhHW"
      },
      "execution_count": null,
      "outputs": []
    },
    {
      "cell_type": "markdown",
      "source": [
        "## Tablita"
      ],
      "metadata": {
        "id": "zgiPkccRsPpC"
      }
    },
    {
      "cell_type": "code",
      "source": [
        "# True or True    ----> True     | True and True    ----> True\n",
        "# False or True   ----> True     | False and True   ----> False\n",
        "# True or False   ----> True     | True and False   ----> False\n",
        "# False or False  ----> False    | False and False  ----> False"
      ],
      "metadata": {
        "id": "89xGytywO3pq"
      },
      "execution_count": null,
      "outputs": []
    },
    {
      "cell_type": "markdown",
      "source": [
        "## Ejercicio 2 (10min)"
      ],
      "metadata": {
        "id": "uAt2VNhusTNs"
      }
    },
    {
      "cell_type": "code",
      "source": [
        "expresiones = [\n",
        "    not False,\n",
        "    not 3 == 5,\n",
        "    33/3 == 11 and 5 > 2,\n",
        "    True or False,\n",
        "    True*5 == 2.5*2 or 123 >= 23,\n",
        "    12 > 7 and True < False\n",
        "]\n",
        "print(expresiones)"
      ],
      "metadata": {
        "id": "cIGtCACVO4on"
      },
      "execution_count": null,
      "outputs": []
    },
    {
      "cell_type": "markdown",
      "source": [
        "### Y porque pasa eso con el not?\n",
        "\n",
        "not 3 == 5"
      ],
      "metadata": {
        "id": "sKWhALMhsdEN"
      }
    },
    {
      "cell_type": "code",
      "source": [
        "# 3 == 0 # False\n",
        "\n",
        "# not 3 # False\n",
        "\n",
        "# not 3 == 0 # True"
      ],
      "metadata": {
        "id": "GzzeegzrAbH6",
        "colab": {
          "base_uri": "https://localhost:8080/"
        },
        "outputId": "6e1c21a8-0e49-46fa-bc22-c4ddf8289a83"
      },
      "execution_count": null,
      "outputs": [
        {
          "output_type": "execute_result",
          "data": {
            "text/plain": [
              "False"
            ]
          },
          "metadata": {},
          "execution_count": 45
        }
      ]
    },
    {
      "cell_type": "code",
      "source": [
        "# 3 == 1 # False\n",
        "\n",
        "# not 3 # False\n",
        "\n",
        "# not 3 == 1 # True\n",
        "\n",
        "# not 3 == 1\n",
        "# False == 1 # False\n",
        "# not (3 == 1)"
      ],
      "metadata": {
        "id": "yzDx2gA3B4tO",
        "colab": {
          "base_uri": "https://localhost:8080/"
        },
        "outputId": "a2d3a1ba-bca1-4b50-f0a3-3b2573ec7f5c"
      },
      "execution_count": null,
      "outputs": [
        {
          "output_type": "execute_result",
          "data": {
            "text/plain": [
              "False"
            ]
          },
          "metadata": {},
          "execution_count": 48
        }
      ]
    },
    {
      "cell_type": "code",
      "source": [
        "# funciones de casting/transformacion de tipo de dato\n",
        "print(int(4.5))\n",
        "print(float('4.3'))\n",
        "print(str(False))\n",
        "print(bool([1,2,3,'otro valor']))\n",
        "print(list('4.3'))\n",
        "print(tuple([1,2,3,'otro valor']))\n",
        "\n",
        "# print(float('pepe')) # Genera error"
      ],
      "metadata": {
        "id": "rj41FypVg9AR"
      },
      "execution_count": null,
      "outputs": []
    },
    {
      "cell_type": "markdown",
      "source": [
        "# Break"
      ],
      "metadata": {
        "id": "WzEqn_bgsnHA"
      }
    },
    {
      "cell_type": "markdown",
      "source": [
        "## EXPRESIONES ANIDADAS\n",
        "\n",
        "\n",
        "1. Expresiones de cualquier tipo entre paréntesis.\n",
        "2. Expresiones aritméticas por su propias reglas.\n",
        "```\n",
        "() -> ** -> / // * %  -> + -\n",
        "primero -> segundo -> tercero -> cuarto\n",
        "```\n",
        "3. Expresiones relacionales de izquierda a derecha.\n",
        "4. Operadores lógicos (not tiene prioridad ya que afecta al operando).\n",
        "\n"
      ],
      "metadata": {
        "id": "B4bIeiXvsrK6"
      }
    },
    {
      "cell_type": "code",
      "source": [
        "a = 15\n",
        "b = 12\n",
        "a ** b / 3**a / a * b >= 15 and not (a%b**2) != 0"
      ],
      "metadata": {
        "id": "hGWYR-tBO7A0",
        "colab": {
          "base_uri": "https://localhost:8080/"
        },
        "outputId": "1d0f823a-0566-470e-ec55-364d11c6e50a"
      },
      "execution_count": null,
      "outputs": [
        {
          "output_type": "execute_result",
          "data": {
            "text/plain": [
              "False"
            ]
          },
          "metadata": {},
          "execution_count": 54
        }
      ]
    },
    {
      "cell_type": "markdown",
      "source": [
        "### Paso a paso\n",
        "\n",
        "```\n",
        "a = 15\n",
        "b = 12\n",
        "a ** b / 3**a / a * b >= 15 and not (a%b**2) != 0\n",
        "```\n",
        "\n",
        "1) b**2 => 144\n",
        "```\n",
        "a ** b / 3**a / a * b >= 15 and not (a%144) != 0\n",
        "```\n",
        "2) a%144 => 15\n",
        "```\n",
        "a**b / 3**a / a * b >= 15 and not 15 != 0\n",
        "```\n",
        "3) a**b => 129746337890625\n",
        "```\n",
        "129746337890625 / 3**a / a * b >= 15 and not 15 != 0\n",
        "```\n",
        "4) 3**a => 14348907\n",
        "```\n",
        "129746337890625 / 14348907 / a * b >= 15 and not 15 != 0\n",
        "```\n",
        "5) 129746337890625 / 14348907 => 9042245.370370371\n",
        "```\n",
        "9042245.370370371 / a * b >= 15 and not 15 != 0\n",
        "```\n",
        "5) 9042245.370370371 / a => 602816.3580246915\n",
        "```\n",
        "602816.3580246915 * b >= 15 and not 15 != 0\n",
        "```\n",
        "6) 602816.3580246915 * b => 7233796.296296298\n",
        "```\n",
        "7233796.296296298 >= 15 and not 15 != 0\n",
        "```\n",
        "7) 7233796.296296298 >= 15 => True\n",
        "```\n",
        "True and not 15 != 0\n",
        "```\n",
        "7) 15 != 0 => True\n",
        "```\n",
        "True and not True\n",
        "```\n",
        "8) not True => False\n",
        "```\n",
        "True and False\n",
        "```\n",
        "False"
      ],
      "metadata": {
        "id": "debYujWchbzX"
      }
    },
    {
      "cell_type": "markdown",
      "source": [
        "## Ejercicio 3 (10min)\n",
        "\n",
        "A partir de dos variables llamadas NOMBRE y EDAD, debes crear una variable que almacene si se cumplen todas las siguientes condiciones, encadenando operadores lógicos en una sola línea:\n",
        "\n",
        "- NOMBRE sea diferente de cuatro asteriscos “****”\n",
        "- EDAD sea mayor que 5 y a su vez menor que 20\n",
        "- Que la longitud de NOMBRE sea mayor o igual a 4  pero a la vez menor que 8\n",
        "- EDAD multiplicada por 3 sea mayor que 35\n",
        "\n",
        "\n",
        "Desde un input conseguir las variables:\n",
        "\n",
        "nombre = INPUT!!!\n",
        "\n",
        "edad = INPUT!!!!\n"
      ],
      "metadata": {
        "id": "RXHwTRNJtpSr"
      }
    },
    {
      "cell_type": "code",
      "source": [
        "nombre = input('Ingrese un nombre: ')\n",
        "edad = int(input('Ingrese su edad: '))\n",
        "\n",
        "cumplen = nombre != '****' and 5 < edad < 20 and 4 <= len(nombre) < 8 and edad * 3 > 35\n",
        "\n",
        "print(cumplen)"
      ],
      "metadata": {
        "id": "Pbx3oEnOtyzC"
      },
      "execution_count": null,
      "outputs": []
    },
    {
      "cell_type": "markdown",
      "source": [
        "## OPERADORES DE ASIGNACIÓN\n"
      ],
      "metadata": {
        "id": "eQWgsie6tVyX"
      }
    },
    {
      "cell_type": "code",
      "source": [
        "# =\n",
        "var1 = 57\n",
        "cadena = 'pepe'\n",
        "print(var1)\n",
        "print(cadena)\n",
        "\n",
        "# +=\n",
        "var1 += 2 # var1 = var1 + 2\n",
        "print(var1)\n",
        "cadena += '2' # cadena = cadena + '2'\n",
        "print(cadena)\n",
        "\n",
        "# -=\n",
        "var1 -= 2 # var1 = var1 - 2\n",
        "print(var1)\n",
        "\n",
        "# *=\n",
        "var1 *= 2 # var1 = var1 * 2\n",
        "print(var1)\n",
        "cadena *= 2\n",
        "print(cadena)\n",
        " \n",
        "# /=\n",
        "var1 /= 2 # var1 = var1 / 2\n",
        "print(var1)\n",
        "\n",
        "# //=\n",
        "var1 //= 2 # var1 = var1 / 2\n",
        "# ( lo esta tomando como division flotante, porque probablemente la version de \n",
        "# python de colab no lo tenga contemplado todavia a este operador de asignacion )\n",
        "print(var1)\n",
        "\n",
        "# %=\n",
        "var1 %= 5 # var1 = var1 % 5\n",
        "print(var1)\n",
        "\n",
        "# **=\n",
        "var1 **= 2 # var1 = var1 ** 2\n",
        "print(var1)\n",
        "\n",
        "\n",
        "# contador = 5\n",
        "# contador += 1\n",
        "# contador"
      ],
      "metadata": {
        "id": "gZQyWLO-O99r"
      },
      "execution_count": null,
      "outputs": []
    },
    {
      "cell_type": "code",
      "source": [
        "4/0"
      ],
      "metadata": {
        "id": "rV-U89PxpUbc"
      },
      "execution_count": null,
      "outputs": []
    }
  ]
}