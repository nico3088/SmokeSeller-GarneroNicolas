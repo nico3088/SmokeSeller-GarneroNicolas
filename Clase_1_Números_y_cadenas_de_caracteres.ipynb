{
  "nbformat": 4,
  "nbformat_minor": 0,
  "metadata": {
    "colab": {
      "provenance": [],
      "include_colab_link": true
    },
    "kernelspec": {
      "name": "python3",
      "display_name": "Python 3"
    },
    "language_info": {
      "name": "python"
    }
  },
  "cells": [
    {
      "cell_type": "markdown",
      "metadata": {
        "id": "view-in-github",
        "colab_type": "text"
      },
      "source": [
        "<a href=\"https://colab.research.google.com/github/nico3088/SmokeSeller-GarneroNicolas/blob/main/Clase_1_N%C3%BAmeros_y_cadenas_de_caracteres.ipynb\" target=\"_parent\"><img src=\"https://colab.research.google.com/assets/colab-badge.svg\" alt=\"Open In Colab\"/></a>"
      ]
    },
    {
      "cell_type": "markdown",
      "source": [
        "print/type"
      ],
      "metadata": {
        "id": "Lbv2XlOuZZZy"
      }
    },
    {
      "cell_type": "code",
      "source": [
        "11/5"
      ],
      "metadata": {
        "id": "lenqzp8TZmB5"
      },
      "execution_count": null,
      "outputs": []
    },
    {
      "cell_type": "code",
      "source": [
        "11//5\n",
        "2+2"
      ],
      "metadata": {
        "id": "nGNgzMPfZl0N"
      },
      "execution_count": null,
      "outputs": []
    },
    {
      "cell_type": "code",
      "source": [
        "11%5"
      ],
      "metadata": {
        "id": "AaMVchFaZrBj"
      },
      "execution_count": null,
      "outputs": []
    },
    {
      "cell_type": "code",
      "source": [
        "print(11//5)\n",
        "print(2+2)"
      ],
      "metadata": {
        "id": "RK9WkeC0bEeh"
      },
      "execution_count": null,
      "outputs": []
    },
    {
      "cell_type": "code",
      "source": [
        "print(type(3.4))\n",
        "print(type(3))"
      ],
      "metadata": {
        "colab": {
          "base_uri": "https://localhost:8080/"
        },
        "id": "Zw8TNU40X0iW",
        "outputId": "729fcc41-19c8-448b-ff2b-88d79669df6c"
      },
      "execution_count": null,
      "outputs": [
        {
          "output_type": "stream",
          "name": "stdout",
          "text": [
            "<class 'float'>\n",
            "<class 'int'>\n"
          ]
        }
      ]
    },
    {
      "cell_type": "markdown",
      "source": [
        "# Numeros"
      ],
      "metadata": {
        "id": "DiFu0yDW9bNi"
      }
    },
    {
      "cell_type": "code",
      "execution_count": null,
      "metadata": {
        "id": "_0g9PFsDIQ3G"
      },
      "outputs": [],
      "source": [
        "print(type(1)) # int => enteros\n",
        "print(type(2.5)) # float => flotantes\n",
        "print(type(2.5j)) # complex => complejos\n",
        "# print(type(2.5L)) # long => se utilizaba en versiones anteriores de python"
      ]
    },
    {
      "cell_type": "code",
      "source": [],
      "metadata": {
        "id": "KODo6-FobeoH"
      },
      "execution_count": null,
      "outputs": []
    },
    {
      "cell_type": "markdown",
      "source": [
        "### Operadores aritmeticos"
      ],
      "metadata": {
        "id": "NgcpZs01ptoW"
      }
    },
    {
      "cell_type": "code",
      "source": [
        "# Suma\n",
        "print(3+3)\n",
        "\n",
        "# Resta\n",
        "print(3-3)\n",
        "\n",
        "# Multiplicacion\n",
        "print(3*3)\n",
        "\n",
        "# Division decimal\n",
        "print(5/3)\n",
        "\n",
        "# Division Entera\n",
        "print(5//3)\n",
        "\n",
        "# Modulo ( Resto de la division entera de 5 y 3 )\n",
        "print(5%3)\n",
        "\n",
        "# Potenciacion\n",
        "print(5**3)"
      ],
      "metadata": {
        "id": "Z6o8Z_4wIZgR",
        "colab": {
          "base_uri": "https://localhost:8080/"
        },
        "outputId": "09702a15-4f08-4ff8-f381-0e7aac21b042"
      },
      "execution_count": null,
      "outputs": [
        {
          "output_type": "stream",
          "name": "stdout",
          "text": [
            "6\n",
            "0\n",
            "9\n",
            "1.6666666666666667\n",
            "1\n",
            "2\n",
            "125\n"
          ]
        }
      ]
    },
    {
      "cell_type": "markdown",
      "source": [
        "### Expresión\n",
        "\n",
        "\n",
        "5 + 5 * 12 / 3"
      ],
      "metadata": {
        "id": "YYPD37tEZi8b"
      }
    },
    {
      "cell_type": "markdown",
      "source": [
        "### Precedencia\n",
        "\n",
        "python ejecuta operacion de izq a derecha\n",
        "\n",
        "---\n",
        "\n",
        "() -> ** -> / // * %  -> + -\n",
        "\n",
        "primero -> segundo -> tercero -> cuarto\n",
        "\n",
        "---\n",
        "\n",
        "1ro. ()\n",
        "\n",
        "2do. **\n",
        "\n",
        "3ro. * / // %\n",
        "\n",
        "4to. + - \n",
        "\n",
        "---"
      ],
      "metadata": {
        "id": "Bjlh3mvLpOjs"
      }
    },
    {
      "cell_type": "code",
      "source": [
        "5 + 5 * 12 / 3 - 45 + 3 ** 5"
      ],
      "metadata": {
        "id": "fOERFpIDbEdM",
        "colab": {
          "base_uri": "https://localhost:8080/"
        },
        "outputId": "c8da39ea-741a-44f4-fe2a-2a865d78b625"
      },
      "execution_count": null,
      "outputs": [
        {
          "output_type": "execute_result",
          "data": {
            "text/plain": [
              "223.0"
            ]
          },
          "metadata": {},
          "execution_count": 3
        }
      ]
    },
    {
      "cell_type": "markdown",
      "source": [
        "\n",
        "5 + 5 * 12 / 3 - 45 + 3 ** 5\n",
        "\n",
        "5 + 5 * 12 / 3 - 45 + 243\n",
        "\n",
        "5 + 20 - 45 + 243\n",
        "\n",
        "223"
      ],
      "metadata": {
        "id": "X5bk20Qraade"
      }
    },
    {
      "cell_type": "code",
      "source": [
        "5 + 5 * 12 / 3 - ( 45 + 3 ** 5 )"
      ],
      "metadata": {
        "id": "ZGgbSzs4a4Qm",
        "colab": {
          "base_uri": "https://localhost:8080/"
        },
        "outputId": "40bb7424-5afb-490c-f171-422ff5992cf5"
      },
      "execution_count": null,
      "outputs": [
        {
          "output_type": "execute_result",
          "data": {
            "text/plain": [
              "-263.0"
            ]
          },
          "metadata": {},
          "execution_count": 4
        }
      ]
    },
    {
      "cell_type": "markdown",
      "source": [
        "5 + 5 * 12 / 3 - ( 45 + 3 ** 5 )\n",
        "\n",
        "5 + 5 * 12 / 3 - ( 45 + 243 )\n",
        "\n",
        "5 + 5 * 12 / 3 - 288\n",
        "\n",
        "5 + 20 - 288\n",
        "\n",
        "-263"
      ],
      "metadata": {
        "id": "FH8PDlcIbBCm"
      }
    },
    {
      "cell_type": "markdown",
      "source": [
        "# Cadenas de texto / string"
      ],
      "metadata": {
        "id": "_3FOXplJp51G"
      }
    },
    {
      "cell_type": "code",
      "source": [
        "'mama! cortaste la luz'\n",
        "\"mama! cortaste la luz?\""
      ],
      "metadata": {
        "id": "wLo5cy7VdXuU"
      },
      "execution_count": null,
      "outputs": []
    },
    {
      "cell_type": "code",
      "source": [
        "type(\"mama! cortaste la luz?\")"
      ],
      "metadata": {
        "id": "iOCaVlhsMvFI"
      },
      "execution_count": null,
      "outputs": []
    },
    {
      "cell_type": "code",
      "source": [
        "print('mama! cortaste la luz')\n",
        "print(\"mama! cortaste la luz\")"
      ],
      "metadata": {
        "id": "jxIEFgc3qMNT"
      },
      "execution_count": null,
      "outputs": []
    },
    {
      "cell_type": "code",
      "source": [
        "print('It is blue')\n",
        "print(\"It's blue\")"
      ],
      "metadata": {
        "id": "cmUStKUo3Qg0"
      },
      "execution_count": null,
      "outputs": []
    },
    {
      "cell_type": "code",
      "source": [
        "print(\"Y Ricardo grito: mama! cortaste la luz\")\n",
        "print('Y Ricardo grito: \"mama! cortaste la luz\"')"
      ],
      "metadata": {
        "id": "qvnJqSjn4F8Y"
      },
      "execution_count": null,
      "outputs": []
    },
    {
      "cell_type": "code",
      "source": [
        "print(\"It's blue\")\n",
        "print('Y Ricardo grito: \"mama! cortaste la luz\"')"
      ],
      "metadata": {
        "id": "7wS1GtE635G4"
      },
      "execution_count": null,
      "outputs": []
    },
    {
      "cell_type": "code",
      "source": [
        "\n",
        "# Cadena con formato, escape de caracteres, raw-string, f-string\n",
        "\n",
        "# print('\"letras\", \"palabras\"')\n",
        "# print(\"\\\"letras\\\", \\\"palabras\\\"\")\n",
        "# print(\"'letras',\\n 'palabras'\")\n",
        "# print(\"'letras',\\t'palabras'\")\n",
        "# print('''\n",
        "# asdasdasdasd\n",
        "# ''')\n",
        "print(\"\"\"\n",
        "'letras',\n",
        "         'palabras'\n",
        "\"\"\")\n",
        "print('''\n",
        "'letras',\n",
        "         'palabras'\n",
        "''')\n",
        "print(\"\"\"dfgdfgdfg\n",
        "'letras',\n",
        " 'palabras'\n",
        "dfgdfgdfg\"\"\")\n",
        "\n",
        "# print(\"\n",
        "# 'letras',\n",
        "#          'palabras'\n",
        "# \")"
      ],
      "metadata": {
        "id": "-8V2n0kEJ2oD"
      },
      "execution_count": null,
      "outputs": []
    },
    {
      "cell_type": "code",
      "source": [
        "print(r'mama! \\tcortaste la luz')"
      ],
      "metadata": {
        "id": "7xw-gpjDqWdB"
      },
      "execution_count": null,
      "outputs": []
    },
    {
      "cell_type": "code",
      "source": [
        "print(\"C:\\norma\\pepe\")\n",
        "print('C:\\tomas\\pepe')\n",
        "print(r\"C:\\norma\\pepe\")"
      ],
      "metadata": {
        "id": "p7mHFnmUMzQI"
      },
      "execution_count": null,
      "outputs": []
    },
    {
      "cell_type": "code",
      "source": [
        "# \"C:\\norma\\pepe\"\n",
        "# 'C:\\tomas\\pepe'\n",
        "r\"C:\\norma\\pepe\""
      ],
      "metadata": {
        "id": "fvNLbQkaQ7XS"
      },
      "execution_count": null,
      "outputs": []
    },
    {
      "cell_type": "code",
      "source": [
        "print('\\ttabulacion')\n",
        "print('tabu\\nlacion')\n",
        "print('        tabulacion')\n",
        "# print('\n",
        "# tabulacion\n",
        "# ')\n",
        "print('''tabu\n",
        "lacion''')\n",
        "\n",
        "print('''\n",
        "|nombre |apellido|edad|\n",
        "|pepe   |grillo  |23  |\n",
        "|ricardo|fort    |34  |\n",
        "''')"
      ],
      "metadata": {
        "id": "0p0h8rJGisdB"
      },
      "execution_count": null,
      "outputs": []
    },
    {
      "cell_type": "markdown",
      "source": [
        "# Break"
      ],
      "metadata": {
        "id": "XI2L2G5tqogu"
      }
    },
    {
      "cell_type": "markdown",
      "source": [
        "Variables\n",
        "\n",
        "x + 3 = 5"
      ],
      "metadata": {
        "id": "5s1hx29_rQOa"
      }
    },
    {
      "cell_type": "code",
      "source": [
        "numero = 23\n",
        "print(numero)\n",
        "suma = 5 + 5\n",
        "print(suma)\n",
        "print(suma)\n",
        "animal = 'oso'\n",
        "print(animal) # esto es un comentario que python no lo lee\n",
        "# # esto es otro comentario que python no lo lee\n",
        "# edad del profe = 33\n",
        "# 'edad del profe' = 33\n",
        "edad_del_profe = 33\n",
        "print(edad_del_profe)"
      ],
      "metadata": {
        "id": "ZHNrl_3q-ELV"
      },
      "execution_count": null,
      "outputs": []
    },
    {
      "cell_type": "markdown",
      "source": [
        "---\n",
        "### Formatos para nombrar una variable\n",
        "---\n",
        "snake_case -> Por cada palabra que contenga el nombre de la variable, las vas a escribir en minuscula y para separarlas vas aponer un _  ( definir variables, funciones, etc... algunas se ven mas adelante)\n",
        "\n",
        "edad_de_pepe = 25\n",
        "\n",
        "---\n",
        "\n",
        "PascalCase -> Por cada palabra que contenga el nombre de la variable su primer letra iria enb mayuscula y no tendrian separador ( definir Clases... se ven mas adelante )\n",
        "\n",
        "EdadDePepe = 25\n",
        "\n",
        "---\n",
        "\n",
        "camelCase -> Casi igual a PascalCase con la diferencia que la primer letra siempre va en minuscula ( se suele utiliar en otros lenguajes )\n",
        "\n",
        "edadDePepe = 25\n",
        "\n",
        "---"
      ],
      "metadata": {
        "id": "MU30jFpb-7vY"
      }
    },
    {
      "cell_type": "code",
      "source": [
        "suma = 2+2\n",
        "print(type(suma))\n",
        "# type(4)\n",
        "print(suma) # 2+2"
      ],
      "metadata": {
        "id": "AWrt8En4meOZ"
      },
      "execution_count": null,
      "outputs": []
    },
    {
      "cell_type": "code",
      "source": [
        "estanteria = 'taza'\n",
        "multiplicacion = 14*15\n",
        "x = 14*15\n",
        "y = 2020\n",
        "anio_nacimiento = 2020\n",
        "\n",
        "print(x)\n",
        "print(multiplicacion)\n",
        "print(y)\n",
        "print(anio_nacimiento)"
      ],
      "metadata": {
        "id": "L6XzmHpyPwhF"
      },
      "execution_count": null,
      "outputs": []
    },
    {
      "cell_type": "code",
      "source": [
        "numero_de_clase, cantidad_alumnos = 34655, 121\n",
        "print(numero_de_clase)\n",
        "print(cantidad_alumnos)"
      ],
      "metadata": {
        "id": "Ege1FOk2nckx"
      },
      "execution_count": null,
      "outputs": []
    },
    {
      "cell_type": "code",
      "source": [
        "# 2 = pepe\n",
        "pepe = 2\n",
        "print(pepe)\n",
        "# variable15\n",
        "variable15 = 15\n",
        "print(variable15)"
      ],
      "metadata": {
        "id": "VMAykXRXRr4f"
      },
      "execution_count": null,
      "outputs": []
    },
    {
      "cell_type": "code",
      "source": [
        "num = 2\n",
        "print(num)\n",
        "variable\n",
        "print(variable)\n",
        "print(2+2)"
      ],
      "metadata": {
        "id": "PjOTz2EkCOSA",
        "colab": {
          "base_uri": "https://localhost:8080/",
          "height": 253
        },
        "outputId": "39c47dee-e4db-46a7-9e5b-678b6bcc14a9"
      },
      "execution_count": null,
      "outputs": [
        {
          "output_type": "stream",
          "name": "stdout",
          "text": [
            "2\n"
          ]
        },
        {
          "output_type": "error",
          "ename": "NameError",
          "evalue": "ignored",
          "traceback": [
            "\u001b[0;31m---------------------------------------------------------------------------\u001b[0m",
            "\u001b[0;31mNameError\u001b[0m                                 Traceback (most recent call last)",
            "\u001b[0;32m<ipython-input-53-842be356c09f>\u001b[0m in \u001b[0;36m<module>\u001b[0;34m\u001b[0m\n\u001b[1;32m      1\u001b[0m \u001b[0mnum\u001b[0m \u001b[0;34m=\u001b[0m \u001b[0;36m2\u001b[0m\u001b[0;34m\u001b[0m\u001b[0;34m\u001b[0m\u001b[0m\n\u001b[1;32m      2\u001b[0m \u001b[0mprint\u001b[0m\u001b[0;34m(\u001b[0m\u001b[0mnum\u001b[0m\u001b[0;34m)\u001b[0m\u001b[0;34m\u001b[0m\u001b[0;34m\u001b[0m\u001b[0m\n\u001b[0;32m----> 3\u001b[0;31m \u001b[0mvariable\u001b[0m\u001b[0;34m\u001b[0m\u001b[0;34m\u001b[0m\u001b[0m\n\u001b[0m\u001b[1;32m      4\u001b[0m \u001b[0mprint\u001b[0m\u001b[0;34m(\u001b[0m\u001b[0mvariable\u001b[0m\u001b[0;34m)\u001b[0m\u001b[0;34m\u001b[0m\u001b[0;34m\u001b[0m\u001b[0m\n\u001b[1;32m      5\u001b[0m \u001b[0mprint\u001b[0m\u001b[0;34m(\u001b[0m\u001b[0;36m2\u001b[0m\u001b[0;34m+\u001b[0m\u001b[0;36m2\u001b[0m\u001b[0;34m)\u001b[0m\u001b[0;34m\u001b[0m\u001b[0;34m\u001b[0m\u001b[0m\n",
            "\u001b[0;31mNameError\u001b[0m: name 'variable' is not defined"
          ]
        }
      ]
    },
    {
      "cell_type": "code",
      "source": [
        "texto = 'Hola soy pepito'\n",
        "print(texto)"
      ],
      "metadata": {
        "id": "JyN1xueLSOtV"
      },
      "execution_count": null,
      "outputs": []
    },
    {
      "cell_type": "code",
      "source": [
        "var = 'variable'\n",
        "vaR = 'Variable'\n",
        "VaR = 'VariablE'\n",
        "print(var)\n",
        "print(vaR)\n",
        "print(VaR)\n",
        "var = 'var'\n",
        "print(var)"
      ],
      "metadata": {
        "id": "wyWrMjxZTmBA"
      },
      "execution_count": null,
      "outputs": []
    },
    {
      "cell_type": "markdown",
      "source": [
        "# input\n",
        "\n",
        "Siempre devuelve/retorna un string"
      ],
      "metadata": {
        "id": "IxrqO5cWepzy"
      }
    },
    {
      "cell_type": "code",
      "source": [
        "input('Ingrese nombre: ')"
      ],
      "metadata": {
        "id": "CWzs0dkZp97Y"
      },
      "execution_count": null,
      "outputs": []
    },
    {
      "cell_type": "code",
      "source": [
        "nombre = input('Ingrese nombre: ')\n",
        "print(nombre)"
      ],
      "metadata": {
        "id": "7wxN-O_DplXF"
      },
      "execution_count": null,
      "outputs": []
    },
    {
      "cell_type": "code",
      "source": [
        "input('Ingresa un numero: ')"
      ],
      "metadata": {
        "id": "Hi3DDcm6qIJ0"
      },
      "execution_count": null,
      "outputs": []
    },
    {
      "cell_type": "code",
      "source": [
        "numero = input('Ingresa un numero: ')\n",
        "# print(numero)\n",
        "numero"
      ],
      "metadata": {
        "id": "meZ8jAWHUPyf"
      },
      "execution_count": null,
      "outputs": []
    },
    {
      "cell_type": "code",
      "source": [
        "numero = input('Ingresa un numero: ')\n",
        "print(type(numero))"
      ],
      "metadata": {
        "id": "iIloF5bCfJQ8"
      },
      "execution_count": null,
      "outputs": []
    },
    {
      "cell_type": "code",
      "source": [
        "numero = input('Ingresa un numero: ')\n",
        "print(type(numero))\n",
        "print(type(5))\n",
        "print(numero + 5)"
      ],
      "metadata": {
        "id": "6-GrWToLfBrC"
      },
      "execution_count": null,
      "outputs": []
    },
    {
      "cell_type": "markdown",
      "source": [
        "### Castear"
      ],
      "metadata": {
        "id": "pp1k-kVSe4rV"
      }
    },
    {
      "cell_type": "code",
      "source": [
        "# int(aca el valor que queremos transformar a entero)\n",
        "# numero = input('Ingresa un numero: ')\n",
        "numero = int(input('Ingresa un numero: '))\n",
        "print(type(numero))\n",
        "print(type(5))\n",
        "print(numero + 5)"
      ],
      "metadata": {
        "id": "7YtBnKp9q1P0"
      },
      "execution_count": null,
      "outputs": []
    },
    {
      "cell_type": "code",
      "source": [
        "# float(aca el valor que queremos transformar a flotante/decimal)\n",
        "numero = float(input('Ingresa un numero: '))\n",
        "print(type(numero))\n",
        "print(type(5.5))\n",
        "print(numero + 5)"
      ],
      "metadata": {
        "id": "CAhJGrHjaPC9"
      },
      "execution_count": null,
      "outputs": []
    },
    {
      "cell_type": "code",
      "source": [
        "# str(aca el valor que queremos transformar a string/cadena de texto)\n",
        "numero = str(2+2)\n",
        "print(type(numero))\n",
        "print(type('4'))\n",
        "print(type(4))\n",
        "# print(numero + 5)\n",
        "# print(5 + numero)"
      ],
      "metadata": {
        "id": "4hgJKHavaU1j"
      },
      "execution_count": null,
      "outputs": []
    },
    {
      "cell_type": "code",
      "source": [],
      "metadata": {
        "id": "wpUCr25yUu8p"
      },
      "execution_count": null,
      "outputs": []
    },
    {
      "cell_type": "markdown",
      "source": [
        "### Operacion con variables"
      ],
      "metadata": {
        "id": "R1ihritpfc6t"
      }
    },
    {
      "cell_type": "code",
      "source": [
        "nombre = 'Ricardo'\n",
        "apellido = 'Fort'\n",
        "numero1 = 5\n",
        "numero2 = 15\n",
        "\n",
        "# Sumar, Restar, Multiplicar, etc\n",
        "print(numero1 + numero2 * numero1)\n",
        "# print(5 + 15 * 5)\n",
        "\n",
        "# Concatenar\n",
        "print(nombre + apellido)\n",
        "print(nombre + ' ' + apellido)\n",
        "print(nombre, apellido)\n",
        "variable = nombre, apellido\n",
        "print(variable)\n",
        "\n",
        "# # Repetir String \n",
        "print(nombre * numero1)\n",
        "print('pepe' * 4)"
      ],
      "metadata": {
        "id": "khjRtp8dVcik"
      },
      "execution_count": null,
      "outputs": []
    },
    {
      "cell_type": "markdown",
      "source": [
        "### index"
      ],
      "metadata": {
        "id": "pJtyfu7VgS57"
      }
    },
    {
      "cell_type": "code",
      "source": [
        "texto = 'Probando los indices'\n",
        "#        0123456789...    \n",
        "#                  ...7654321 negativos\n",
        "\n",
        "palabra = 'roca'\n",
        "        #  0123 -->\n",
        "        #  4321 <--\n",
        "\n",
        "print(texto[0])\n",
        "print('Probando los indices'[3])\n",
        "print(texto[8])\n",
        "print(texto[-1])\n",
        "print(texto[19])"
      ],
      "metadata": {
        "id": "nj3kaml3WpVy"
      },
      "execution_count": null,
      "outputs": []
    },
    {
      "cell_type": "markdown",
      "source": [
        "len"
      ],
      "metadata": {
        "id": "OTpsSAfWgbjX"
      }
    },
    {
      "cell_type": "code",
      "source": [
        "palabra = 'roca'\n",
        "print(len('Probando los indices')) # len(valor a contar)\n",
        "print(len(palabra))"
      ],
      "metadata": {
        "id": "PVwF5kyNghCa"
      },
      "execution_count": null,
      "outputs": []
    },
    {
      "cell_type": "markdown",
      "source": [
        "Slicing"
      ],
      "metadata": {
        "id": "yoDrcTeKKvi2"
      }
    },
    {
      "cell_type": "code",
      "source": [
        "texto = 'Probando el slicing'\n",
        "\n",
        "# print(texto)\n",
        "# print(texto[4])\n",
        "\n",
        "# texto[<inicio>:<final>:<el salto>]\n",
        "\n",
        "# print(texto[4:])\n",
        "# print(texto[:8])\n",
        "# print(texto[4:19])\n",
        "# print(texto[10])\n",
        "# print(texto[4:10])\n",
        "# print(texto[9])\n",
        "# print(texto[:10])\n",
        "# print(texto[-5:])\n",
        "# print(texto[-5:-2])\n",
        "# print(texto[-2:-5]) # no toma nada porque quiere ir de un valor para la parte anterior de la cadena de caracteres\n",
        "# print(texto[principio incluido:final sin incluir:salto])\n",
        "# print(texto[::1])\n",
        "# print(texto[::2])\n",
        "# print(texto[::4])\n",
        "# print(texto[3:12])\n",
        "# print(texto[3:12:2])\n",
        "# print(texto[::-1])\n",
        "texto_dado_vuelta = texto[::-1]\n",
        "print(texto)\n",
        "print(texto_dado_vuelta)"
      ],
      "metadata": {
        "colab": {
          "base_uri": "https://localhost:8080/"
        },
        "id": "sRaeXC5quOhx",
        "outputId": "be4cc9d2-af99-4e52-ebc3-b82ce75100e1"
      },
      "execution_count": null,
      "outputs": [
        {
          "output_type": "stream",
          "name": "stdout",
          "text": [
            "Probando el slicing\n",
            "gnicils le odnaborP\n"
          ]
        }
      ]
    },
    {
      "cell_type": "code",
      "source": [
        "# print('hola soy ricardo fort el comandante'[::])\n",
        "# print('hola soy ricardo fort el comandante'[2::])\n",
        "# print('hola soy ricardo fort el comandante'[2:6:])\n",
        "# print('hola soy ricardo fort el comandante'[2:14:2])\n",
        "# print('hola soy ricardo fort el comandante'[2:14])\n",
        "# print('hola soy ricardo fort el comandante'[6:])\n",
        "# print('hola soy ricardo fort el comandante'[:14])\n",
        "# print('hola soy ricardo fort el comandante'[::-1])\n",
        "# print('hola soy ricardo fort el comandante'[-15:-6:])"
      ],
      "metadata": {
        "id": "1hfbiVZ9YTq4"
      },
      "execution_count": null,
      "outputs": []
    },
    {
      "cell_type": "markdown",
      "source": [
        "### Inmutabilidad"
      ],
      "metadata": {
        "id": "XMwNpMC2hFSk"
      }
    },
    {
      "cell_type": "code",
      "source": [
        "texto = 'palabras de mas'\n",
        "\n",
        "\n",
        "texto[-2] = 'e'\n",
        "texto_cortado = texto[0:2] + 's' + texto[-1]\n",
        "# print(texto_cortado)\n",
        "# texto_distinto = texto[:-3] + 'menos'\n",
        "# texto = texto[:-3] + 'menos'\n",
        "# print(texto)\n",
        "# print(texto_distinto)\n",
        "\n",
        "\n",
        "# inmutabilidad\n",
        "print(texto)\n",
        "print(texto[3])\n",
        "texto[2] = 's'\n"
      ],
      "metadata": {
        "id": "C_h2ilvobSod"
      },
      "execution_count": null,
      "outputs": []
    },
    {
      "cell_type": "markdown",
      "source": [
        "## Desafío Números (10 min)\n",
        "Descripción de la actividad. \n",
        "\n",
        "En nuestro trabajo, nos solicitan desarrollar un programa que permita calcular el promedio final de los equipos de futbol en un torneo. \n",
        "Para ello, debemos considerar tres aspectos: \n",
        "\n",
        "jugaron 20 partidos durante el torneo, \n",
        "los partidos poseen diferente puntaje según el resultado, los partidos ganados 3 puntos, partido empatado 1 punto, partido perdido 0 puntos,\n",
        "el promedio final resulta de la cantidad de puntos totales divididos la cantidad de partidos\n",
        "\n",
        "La cantidad de partidos que debemos considerar a un equipo para el ejemplo se detallan a continuación: \n",
        "\n",
        "partidos_ganados 8\n",
        "partido_empatados 7\n",
        "partido_perdidos 5\n",
        "\n",
        "Importante: Cada una de las cantidades de partidos ganados, empatados o perdidos debe solicitarse al usuario utilizando la función input().\n"
      ],
      "metadata": {
        "id": "0I7N0oflc5Qx"
      }
    },
    {
      "cell_type": "code",
      "source": [
        "cantidad_partidos_del_torneo = 20\n",
        "puntaje_partidos_ganados = 3\n",
        "puntaje_partidos_empatados = 1\n",
        "puntaje_partidos_perdidos = 0\n",
        "\n",
        "partidos_ganados = float(input('Cantidad de partidos ganados: '))\n",
        "partidos_empatados = float(input('Cantidad de partidos empatados: '))\n",
        "partidos_perdidos = float(input('Cantidad de partidos perdidos: '))\n",
        "\n",
        "puntaje_total = partidos_ganados * puntaje_partidos_ganados + partidos_empatados * puntaje_partidos_empatados + partidos_perdidos * puntaje_partidos_perdidos\n",
        "\n",
        "promedio = puntaje_total / cantidad_partidos_del_torneo\n",
        "\n",
        "print(promedio)\n"
      ],
      "metadata": {
        "colab": {
          "base_uri": "https://localhost:8080/"
        },
        "id": "E-F2Vi0dhKxn",
        "outputId": "c97b749f-7471-45f3-ba17-9f43b3856adf"
      },
      "execution_count": null,
      "outputs": [
        {
          "output_type": "stream",
          "name": "stdout",
          "text": [
            "Cantidad de partidos ganados: 10\n",
            "Cantidad de partidos empatados: 1\n",
            "Cantidad de partidos perdidos: 19\n",
            "1.55\n"
          ]
        }
      ]
    },
    {
      "cell_type": "markdown",
      "source": [
        "# Desafío String (10 min)\n",
        "\n",
        "Dadas cuatro variables con diferentes textos (de forma individual), genera una nueva variable con el siguiente contenido:\n",
        "\n",
        "Objetivo: “Python es un lenguaje de programación versátil”\n",
        "\n",
        "Partiendo de:\n",
        "\n",
        "cadena_1  = “versátil”\n",
        "\n",
        "cadena_2  = “Python”\n",
        "\n",
        "cadena_3  = “es un lenguaje”\n",
        "\n",
        "cadena_4  = “de programación”\n"
      ],
      "metadata": {
        "id": "cxz15r_mhcoL"
      }
    },
    {
      "cell_type": "code",
      "source": [
        "cadena_1 = 'versátil'\n",
        "cadena_2 = 'Python'\n",
        "cadena_3 = 'es un lenguaje'\n",
        "cadena_4 = 'de programación'\n",
        "\n",
        "print(cadena_2, cadena_3, cadena_4, cadena_1)\n",
        "\n",
        "cadena_total = cadena_2 + ' ' + cadena_3 + ' ' + cadena_4 + ' ' + cadena_1\n",
        "print(cadena_total)"
      ],
      "metadata": {
        "colab": {
          "base_uri": "https://localhost:8080/"
        },
        "id": "PtdGhh4Ujcee",
        "outputId": "d5e474bb-b6fc-4fa5-9cc4-26f8df190225"
      },
      "execution_count": null,
      "outputs": [
        {
          "output_type": "stream",
          "name": "stdout",
          "text": [
            "Python es un lenguaje de programación versátil\n",
            "Python es un lenguaje de programación versátil\n"
          ]
        }
      ]
    },
    {
      "cell_type": "markdown",
      "source": [
        "\n",
        "# Desafío Slicing (10 min)\n",
        "Se tiene una cadena de texto, pero al revés. Al parecer contiene el nombre de un alumno, la nota de un exámen y la materia. \n",
        "De forma individual, realiza lo siguiente: \n",
        "1. Dar vuelta la cadena y asignarla a una variable llamada cadena_volteada. Para devolver una cadena dada vuelta se usa el tercer índice negativo con slicing: cadena[::-1]. \n",
        "2. Extraer nombre y apellido, almacenarlo en una variable llamada nombre_alumno \n",
        "3. Extraer la nota y almacenarla en una variable llamada nota.\n",
        "4. Extraer la materia y almacenarla en una variable llamada materia. \n",
        "5. Mostrar por pantalla la siguiente estructura: \n",
        "😎NOMBRE APELLIDO ha sacado un NOTA en MATERIA. Esto ultimo hacerlo, formateando las anteriores variables en una variable llamada cadena_formateada\n",
        "\n",
        "cadena = “acitametaM ,5.8 ,otipeP ordeP”"
      ],
      "metadata": {
        "id": "JK2JK581hdbH"
      }
    },
    {
      "cell_type": "code",
      "source": [
        "cadena = 'acitametaM ,5.8 ,otipeP ordeP'\n",
        "\n",
        "cadena_volteada = cadena[::-1]\n",
        "print(cadena_volteada)\n",
        "\n",
        "nombre_apellido = cadena_volteada[:12]\n",
        "print(nombre_apellido)\n",
        "\n",
        "nota = cadena_volteada[14:17]\n",
        "print(nota)\n",
        "\n",
        "materia = cadena_volteada[19:]\n",
        "print(materia)\n",
        "\n",
        "print('😎' + nombre_apellido + ' ha sacado un ' + nota + ' en ' + materia)\n",
        "print(f'😎{nombre_apellido} ha sacado un {nota} en {materia}')\n"
      ],
      "metadata": {
        "id": "eBwaG4jqkJy5"
      },
      "execution_count": null,
      "outputs": []
    },
    {
      "cell_type": "markdown",
      "source": [
        "---\n",
        "---\n",
        "# Extra\n",
        "---\n",
        "---"
      ],
      "metadata": {
        "id": "DtfrqAAph0Ky"
      }
    },
    {
      "cell_type": "markdown",
      "source": [
        "## Mi primer programa en Python\n",
        "\n",
        "Consigna\n",
        "\n",
        "Trabajas en Coderhouse y te piden crear un programa que calcule la nota final de estudiantes del curso de Python. La nota final se calcula basándonos en tres notas previas de las cuales, cada una corresponde un porcentaje distinto de la nota final. Los porcentajes se detallan a continuación:\n",
        "- nota_1  cuenta como el 20% de la nota final\n",
        "- nota_2 cuenta como el 30% de la nota final\n",
        "- nota_3 cuenta como el 50% de la nota final\n"
      ],
      "metadata": {
        "id": "ZZjmhZgm2mUM"
      }
    }
  ]
}